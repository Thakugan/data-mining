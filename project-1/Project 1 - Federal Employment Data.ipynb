{
 "cells": [
  {
   "cell_type": "code",
   "execution_count": 2,
   "metadata": {},
   "outputs": [
    {
     "data": {
      "text/html": [
       "<ol class=list-inline>\n",
       "\t<li><span style=white-space:pre-wrap>'000172152THOMAS,R SOLE          20090331AB0051010001350-54 17GS1515-19 0801P140969210F1'</span></li>\n",
       "\t<li><span style=white-space:pre-wrap>'000299511NEESE,DANIEL L         20090331AB00FR750000055-59 13GS1425-29 1630A091791220F2'</span></li>\n",
       "\t<li>'000343471NAME WITHHELD BY AGENCY20090331AB00#########45-49 10GS0910-14 1630A045044210F1'</li>\n",
       "\t<li><span style=white-space:pre-wrap>'000547233GREEN,MICHAEL W        20090331AB00BE550000050-54 04GS1210-14 1630A067299210F1'</span></li>\n",
       "\t<li><span style=white-space:pre-wrap>'000627711MICHAEL,R COONCE       20090331AB00TS300000045-49 04GS095-9   1630A******210F1'</span></li>\n",
       "\t<li><span style=white-space:pre-wrap>'000806215GROSSO,RONALD A        20090331AB00IT700000055-59 13GS145-9   0301A******210F1'</span></li>\n",
       "</ol>\n"
      ],
      "text/latex": [
       "\\begin{enumerate*}\n",
       "\\item '000172152THOMAS,R SOLE          20090331AB0051010001350-54 17GS1515-19 0801P140969210F1'\n",
       "\\item '000299511NEESE,DANIEL L         20090331AB00FR750000055-59 13GS1425-29 1630A091791220F2'\n",
       "\\item '000343471NAME WITHHELD BY AGENCY20090331AB00\\#\\#\\#\\#\\#\\#\\#\\#\\#45-49 10GS0910-14 1630A045044210F1'\n",
       "\\item '000547233GREEN,MICHAEL W        20090331AB00BE550000050-54 04GS1210-14 1630A067299210F1'\n",
       "\\item '000627711MICHAEL,R COONCE       20090331AB00TS300000045-49 04GS095-9   1630A******210F1'\n",
       "\\item '000806215GROSSO,RONALD A        20090331AB00IT700000055-59 13GS145-9   0301A******210F1'\n",
       "\\end{enumerate*}\n"
      ],
      "text/markdown": [
       "1. <span style=white-space:pre-wrap>'000172152THOMAS,R SOLE          20090331AB0051010001350-54 17GS1515-19 0801P140969210F1'</span>\n",
       "2. <span style=white-space:pre-wrap>'000299511NEESE,DANIEL L         20090331AB00FR750000055-59 13GS1425-29 1630A091791220F2'</span>\n",
       "3. '000343471NAME WITHHELD BY AGENCY20090331AB00#########45-49 10GS0910-14 1630A045044210F1'\n",
       "4. <span style=white-space:pre-wrap>'000547233GREEN,MICHAEL W        20090331AB00BE550000050-54 04GS1210-14 1630A067299210F1'</span>\n",
       "5. <span style=white-space:pre-wrap>'000627711MICHAEL,R COONCE       20090331AB00TS300000045-49 04GS095-9   1630A******210F1'</span>\n",
       "6. <span style=white-space:pre-wrap>'000806215GROSSO,RONALD A        20090331AB00IT700000055-59 13GS145-9   0301A******210F1'</span>\n",
       "\n",
       "\n"
      ],
      "text/plain": [
       "[1] \"000172152THOMAS,R SOLE          20090331AB0051010001350-54 17GS1515-19 0801P140969210F1\"\n",
       "[2] \"000299511NEESE,DANIEL L         20090331AB00FR750000055-59 13GS1425-29 1630A091791220F2\"\n",
       "[3] \"000343471NAME WITHHELD BY AGENCY20090331AB00#########45-49 10GS0910-14 1630A045044210F1\"\n",
       "[4] \"000547233GREEN,MICHAEL W        20090331AB00BE550000050-54 04GS1210-14 1630A067299210F1\"\n",
       "[5] \"000627711MICHAEL,R COONCE       20090331AB00TS300000045-49 04GS095-9   1630A******210F1\"\n",
       "[6] \"000806215GROSSO,RONALD A        20090331AB00IT700000055-59 13GS145-9   0301A******210F1\""
      ]
     },
     "metadata": {},
     "output_type": "display_data"
    }
   ],
   "source": [
    "dat_raw <- readLines(\"Status_Non_DoD_2009_03.txt\")\n",
    "head(dat_raw)"
   ]
  },
  {
   "cell_type": "code",
   "execution_count": null,
   "metadata": {
    "collapsed": true
   },
   "outputs": [],
   "source": []
  }
 ],
 "metadata": {
  "kernelspec": {
   "display_name": "R",
   "language": "R",
   "name": "ir"
  },
  "language_info": {
   "codemirror_mode": "r",
   "file_extension": ".r",
   "mimetype": "text/x-r-source",
   "name": "R",
   "pygments_lexer": "r",
   "version": "3.4.1"
  }
 },
 "nbformat": 4,
 "nbformat_minor": 2
}
